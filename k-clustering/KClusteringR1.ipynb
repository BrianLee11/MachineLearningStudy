{
  "nbformat": 4,
  "nbformat_minor": 0,
  "metadata": {
    "colab": {
      "provenance": []
    },
    "kernelspec": {
      "name": "python3",
      "display_name": "Python 3"
    },
    "language_info": {
      "name": "python"
    }
  },
  "cells": [
    {
      "cell_type": "markdown",
      "source": [
        "# K-Clustering in $R^1$"
      ],
      "metadata": {
        "id": "rU5PFyFlQaDE"
      }
    },
    {
      "cell_type": "markdown",
      "source": [
        "Objective:\n",
        " implementing a basic k-means clustering algorithm for 1-dimensional data $(R^1)$"
      ],
      "metadata": {
        "id": "Q9yYkNoiSRCl"
      }
    },
    {
      "cell_type": "code",
      "execution_count": 84,
      "metadata": {
        "id": "Eu0DeaGVF_yP"
      },
      "outputs": [],
      "source": [
        "# K-clustering in R^1\n",
        "# impoort necessary modules\n",
        "import random\n",
        "import math # for math.inf"
      ]
    },
    {
      "cell_type": "code",
      "source": [
        "# Given fish_length list\n",
        "fish_length = [3,5,7, 11, 13, 18, 20, 24, 30, 44]\n",
        "\n",
        "# Randomly pick k numbers from the list\n",
        "k = 3"
      ],
      "metadata": {
        "id": "sRDyiRruGCYc"
      },
      "execution_count": 85,
      "outputs": []
    },
    {
      "cell_type": "code",
      "source": [
        "def pickCenters(array, number):\n",
        "  random_samples = random.sample(array, number)\n",
        "  random_samples.sort()\n",
        "  return random_samples"
      ],
      "metadata": {
        "id": "VNZYZD-rGEpx"
      },
      "execution_count": 86,
      "outputs": []
    },
    {
      "cell_type": "code",
      "source": [
        "# test\n",
        "centers = pickCenters([3,4,5,7,1,2,4,7,8], 3)\n",
        "print(centers)"
      ],
      "metadata": {
        "colab": {
          "base_uri": "https://localhost:8080/"
        },
        "id": "k7w3j3_DGTdQ",
        "outputId": "90d0daa1-cda9-417c-bda7-34fe799da817"
      },
      "execution_count": 87,
      "outputs": [
        {
          "output_type": "stream",
          "name": "stdout",
          "text": [
            "[5, 7, 8]\n"
          ]
        }
      ]
    },
    {
      "cell_type": "code",
      "source": [
        "def divideElements(array, centers):\n",
        "\n",
        "  # create dictionary to hold arrays\n",
        "  arrays_dict = {}\n",
        "\n",
        "  # Iterate over each number in centers\n",
        "  # name the key with a center\n",
        "  for center in centers:\n",
        "    arrays_dict[f\"elements_near_{center}\"] = []\n",
        "\n",
        "  return arrays_dict"
      ],
      "metadata": {
        "id": "ub4KqoqrHF-e"
      },
      "execution_count": 88,
      "outputs": []
    },
    {
      "cell_type": "code",
      "source": [
        "divideElements(fish_length, centers)"
      ],
      "metadata": {
        "colab": {
          "base_uri": "https://localhost:8080/"
        },
        "id": "yhrQAoSlJNWn",
        "outputId": "6dfb19dd-e863-4557-a3d1-f60b8586e2b9"
      },
      "execution_count": 89,
      "outputs": [
        {
          "output_type": "execute_result",
          "data": {
            "text/plain": [
              "{'elements_near_5': [], 'elements_near_7': [], 'elements_near_8': []}"
            ]
          },
          "metadata": {},
          "execution_count": 89
        }
      ]
    },
    {
      "cell_type": "code",
      "source": [
        "fish_length"
      ],
      "metadata": {
        "colab": {
          "base_uri": "https://localhost:8080/"
        },
        "id": "llO_-XorLhuM",
        "outputId": "43bdf15f-a179-42ad-9f93-32c977ef3232"
      },
      "execution_count": 90,
      "outputs": [
        {
          "output_type": "execute_result",
          "data": {
            "text/plain": [
              "[3, 5, 7, 11, 13, 18, 20, 24, 30, 44]"
            ]
          },
          "metadata": {},
          "execution_count": 90
        }
      ]
    },
    {
      "cell_type": "code",
      "source": [
        "def divideElements(array, centers):\n",
        "\n",
        "  # create dictionary to hold arrays\n",
        "  arrays_dict = {}\n",
        "\n",
        "  # Iterate over each number in centers\n",
        "  # name the key with a center\n",
        "  for center in centers:\n",
        "    arrays_dict[f\"elements_near_{center}\"] = []\n",
        "\n",
        "  # designate each element in array to a key\n",
        "  for element in array:\n",
        "    distance = math.inf # Initialize\n",
        "    center_target = None\n",
        "\n",
        "    for center in centers:\n",
        "      measured_distance = ((element - center)**2)**0.5\n",
        "\n",
        "      # update the distance\n",
        "      if measured_distance < distance:\n",
        "        distance = measured_distance       #update the distance\n",
        "        center_target = center\n",
        "\n",
        "    # append the integer\n",
        "    arrays_dict[f\"elements_near_{center_target}\"].append(element)\n",
        "\n",
        "  return arrays_dict"
      ],
      "metadata": {
        "id": "YnZjMjxcJTHE"
      },
      "execution_count": 91,
      "outputs": []
    },
    {
      "cell_type": "code",
      "source": [
        "arrays_dict = divideElements(fish_length, centers)\n",
        "arrays_dict"
      ],
      "metadata": {
        "colab": {
          "base_uri": "https://localhost:8080/"
        },
        "id": "30nHfSF5JoIU",
        "outputId": "b113f3f3-37ea-4ead-da4e-82b522bcb2a1"
      },
      "execution_count": 92,
      "outputs": [
        {
          "output_type": "execute_result",
          "data": {
            "text/plain": [
              "{'elements_near_5': [3, 5],\n",
              " 'elements_near_7': [7],\n",
              " 'elements_near_8': [11, 13, 18, 20, 24, 30, 44]}"
            ]
          },
          "metadata": {},
          "execution_count": 92
        }
      ]
    },
    {
      "cell_type": "code",
      "source": [
        "import numpy as np\n",
        "\n",
        "def calculateMean(dictionary, centers):\n",
        "  new_centers = []\n",
        "  for index in range(len(dictionary)):\n",
        "    mean = np.mean(dictionary[f\"elements_near_{centers[index]}\"])\n",
        "    new_centers.append(mean)\n",
        "  return new_centers"
      ],
      "metadata": {
        "id": "eXBTdNQPMG-W"
      },
      "execution_count": 93,
      "outputs": []
    },
    {
      "cell_type": "code",
      "source": [
        "new_centers = calculateMean(arrays_dict, centers)\n",
        "new_centers"
      ],
      "metadata": {
        "colab": {
          "base_uri": "https://localhost:8080/"
        },
        "id": "Z0zzt0RuNaM_",
        "outputId": "694507fb-01f0-4870-c15f-21e0556b9c6d"
      },
      "execution_count": 94,
      "outputs": [
        {
          "output_type": "execute_result",
          "data": {
            "text/plain": [
              "[4.0, 7.0, 22.857142857142858]"
            ]
          },
          "metadata": {},
          "execution_count": 94
        }
      ]
    },
    {
      "cell_type": "code",
      "source": [
        "new_arrays_dict = divideElements(fish_length, new_centers)\n",
        "new_arrays_dict"
      ],
      "metadata": {
        "colab": {
          "base_uri": "https://localhost:8080/"
        },
        "id": "WHydLzNkOjsd",
        "outputId": "6a5d16db-ecdf-40d2-e71f-35ebe7fbed31"
      },
      "execution_count": 95,
      "outputs": [
        {
          "output_type": "execute_result",
          "data": {
            "text/plain": [
              "{'elements_near_4.0': [3, 5],\n",
              " 'elements_near_7.0': [7, 11, 13],\n",
              " 'elements_near_22.857142857142858': [18, 20, 24, 30, 44]}"
            ]
          },
          "metadata": {},
          "execution_count": 95
        }
      ]
    },
    {
      "cell_type": "code",
      "source": [
        "if arrays_dict == new_arrays_dict:\n",
        "  print(\"The same\")\n",
        "else:\n",
        "  print(\"Not the same\")"
      ],
      "metadata": {
        "colab": {
          "base_uri": "https://localhost:8080/"
        },
        "id": "QbrWZA0-PIzZ",
        "outputId": "858e287a-f4e4-4117-c7c0-10c2f43ce341"
      },
      "execution_count": 96,
      "outputs": [
        {
          "output_type": "stream",
          "name": "stdout",
          "text": [
            "Not the same\n"
          ]
        }
      ]
    },
    {
      "cell_type": "code",
      "source": [
        "# combine previously implement functions and iterate until the centers are stable\n",
        "\n",
        "def kClustering(array, number):\n",
        "  centers = pickCenters(array, number)\n",
        "\n",
        "  while True:\n",
        "    arrays_dict = divideElements(fish_length, centers)\n",
        "\n",
        "    new_centers = calculateMean(arrays_dict, centers)\n",
        "    new_arrays_dict = divideElements(fish_length, new_centers)\n",
        "\n",
        "    if arrays_dict == new_arrays_dict:\n",
        "      break\n",
        "\n",
        "      centers = new_centers\n",
        "\n",
        "    return new_arrays_dict"
      ],
      "metadata": {
        "id": "2HmEZ86pPmpI"
      },
      "execution_count": 97,
      "outputs": []
    },
    {
      "cell_type": "code",
      "source": [
        "# test\n",
        "final_arrays_dict = kClustering(fish_length, 3)\n",
        "final_arrays_dict"
      ],
      "metadata": {
        "colab": {
          "base_uri": "https://localhost:8080/"
        },
        "id": "21AT1oEHQKSg",
        "outputId": "aa22367a-4b64-47d5-b5f5-5c9380e7152d"
      },
      "execution_count": 98,
      "outputs": [
        {
          "output_type": "execute_result",
          "data": {
            "text/plain": [
              "{'elements_near_5.0': [3, 5, 7],\n",
              " 'elements_near_12.0': [11, 13, 18],\n",
              " 'elements_near_27.2': [20, 24, 30, 44]}"
            ]
          },
          "metadata": {},
          "execution_count": 98
        }
      ]
    }
  ]
}