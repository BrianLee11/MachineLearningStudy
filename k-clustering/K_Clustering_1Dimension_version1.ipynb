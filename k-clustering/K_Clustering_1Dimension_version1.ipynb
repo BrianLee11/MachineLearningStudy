{
  "nbformat": 4,
  "nbformat_minor": 0,
  "metadata": {
    "colab": {
      "provenance": []
    },
    "kernelspec": {
      "name": "python3",
      "display_name": "Python 3"
    },
    "language_info": {
      "name": "python"
    }
  },
  "cells": [
    {
      "cell_type": "markdown",
      "source": [
        "#Topic: example of K-Clustering with 1 dimension\n",
        "\n",
        "STEP 1: Randomly select k-number of centers. Calculate distance from these centers. Designate numbers to the group with center.\n",
        "\n",
        "STEP 2: (to be continued)"
      ],
      "metadata": {
        "id": "54xQcr6qlMhd"
      }
    },
    {
      "cell_type": "markdown",
      "source": [
        "Date created: Monday, May 20,\n",
        "\n",
        "Date modified: Monday, May 20, 2024"
      ],
      "metadata": {
        "id": "-zu2sdkc5KOs"
      }
    },
    {
      "cell_type": "markdown",
      "source": [
        "###Objective:\n",
        "\n",
        "For given a list of numbers, k-number of centers are randomly selected. Then, each element in the given list of numbers is allocated to the group which has the closest distance (Euclidean distance) to a center.\n",
        "\n",
        "Example: given array = [3, 4, 5, 6, 7, 8, 9, 10, 11, 12, 13]\n",
        "Two numbers are randomly selected in this given array = [5, 10]\n",
        "\n",
        "Group of numbers that are closer to 5 = [3,4,5,6,7]\n",
        "\n",
        "Group of nubmers that are closer to 10 = [8,9,10,11,12,13]"
      ],
      "metadata": {
        "id": "zK7R4uGY5WKW"
      }
    },
    {
      "cell_type": "code",
      "source": [
        "# import necessary modules\n",
        "import random\n",
        "import math # for math.inf"
      ],
      "metadata": {
        "id": "LnsnTeAMlsX0"
      },
      "execution_count": 53,
      "outputs": []
    },
    {
      "cell_type": "code",
      "execution_count": 54,
      "metadata": {
        "id": "CpkqJ7o6QbhI"
      },
      "outputs": [],
      "source": [
        "# Given fish_length list\n",
        "fish_length = [3, 4, 5, 6, 7, 8, 9, 10, 11, 12, 13]\n",
        "\n",
        "# Randomly pick k numbers from the list without repetition\n",
        "k = 3"
      ]
    },
    {
      "cell_type": "markdown",
      "source": [
        "### Center selection. Randomly select k-numbers in the array \"fish_length\""
      ],
      "metadata": {
        "id": "hs03AqZR4fDW"
      }
    },
    {
      "cell_type": "code",
      "source": [
        "random_samples = random.sample(fish_length, k)\n",
        "random_samples.sort()\n",
        "print(random_samples)"
      ],
      "metadata": {
        "colab": {
          "base_uri": "https://localhost:8080/"
        },
        "id": "E-f9Hoy2Q-E2",
        "outputId": "e0c1a9f1-2830-43e0-c655-ec9f0b17defa"
      },
      "execution_count": 55,
      "outputs": [
        {
          "output_type": "stream",
          "name": "stdout",
          "text": [
            "[4, 11, 12]\n"
          ]
        }
      ]
    },
    {
      "cell_type": "markdown",
      "source": [
        "### Use dictionary to hold arrays. Each array contains elements near the \"centers\""
      ],
      "metadata": {
        "id": "A0AIJZzA4pI9"
      }
    },
    {
      "cell_type": "code",
      "source": [
        "# Create an empty dictionary to hold arrays\n",
        "arrays_dict = {}\n",
        "\n",
        "# Iterate over each integer in random_samples\n",
        "for integer in random_samples:\n",
        "    arrays_dict[f\"random_sample_{integer}\"] = []\n",
        "\n",
        "# Display the result\n",
        "arrays_dict"
      ],
      "metadata": {
        "colab": {
          "base_uri": "https://localhost:8080/"
        },
        "id": "6MrNuFyHRUS0",
        "outputId": "d933f4cc-47b1-4c79-8f21-3a660147f9e5"
      },
      "execution_count": 61,
      "outputs": [
        {
          "output_type": "execute_result",
          "data": {
            "text/plain": [
              "{'random_sample_4': [], 'random_sample_11': [], 'random_sample_12': []}"
            ]
          },
          "metadata": {},
          "execution_count": 61
        }
      ]
    },
    {
      "cell_type": "markdown",
      "source": [
        "### Use the \"for loops\" to designate each element in certain group with center"
      ],
      "metadata": {
        "id": "KfRCuo4T40I1"
      }
    },
    {
      "cell_type": "code",
      "source": [
        "# compute distance to the nearest center\n",
        "fish_label = [] # Initialize\n",
        "\n",
        "for integer in fish_length:\n",
        "    distance = math.inf                                # Initialize distance to infinity\n",
        "    center_target = None\n",
        "\n",
        "    for center in random_samples:\n",
        "      distance_to_center = ((integer-center)**2)**0.5  # Compute distance to center\n",
        "\n",
        "      if distance_to_center < distance:                # Condition to update\n",
        "        distance = distance_to_center                  # Update clostest distance\n",
        "        center_target = center                         # Update closest center\n",
        "\n",
        "    arrays_dict[f\"random_sample_{center_target}\"].append(integer) # Append each integer\n",
        "    fish_label.append(center_target)                            # Append the final center"
      ],
      "metadata": {
        "id": "bayjndNqTzCb"
      },
      "execution_count": 62,
      "outputs": []
    },
    {
      "cell_type": "markdown",
      "source": [
        "### print results"
      ],
      "metadata": {
        "id": "2LqPgmuY5BBb"
      }
    },
    {
      "cell_type": "code",
      "source": [
        "arrays_dict"
      ],
      "metadata": {
        "colab": {
          "base_uri": "https://localhost:8080/"
        },
        "id": "YNPhHg1AU6Ul",
        "outputId": "a60c17ee-5ba5-4ddb-d54c-cc2756b86e2e"
      },
      "execution_count": 63,
      "outputs": [
        {
          "output_type": "execute_result",
          "data": {
            "text/plain": [
              "{'random_sample_4': [3, 4, 5, 6, 7],\n",
              " 'random_sample_11': [8, 9, 10, 11],\n",
              " 'random_sample_12': [12, 13]}"
            ]
          },
          "metadata": {},
          "execution_count": 63
        }
      ]
    },
    {
      "cell_type": "code",
      "source": [
        "fish_label"
      ],
      "metadata": {
        "colab": {
          "base_uri": "https://localhost:8080/"
        },
        "id": "0MUGvPQPZEU4",
        "outputId": "383d6c58-39d9-46d7-8f56-1f4689f7b507"
      },
      "execution_count": 64,
      "outputs": [
        {
          "output_type": "execute_result",
          "data": {
            "text/plain": [
              "[4, 4, 4, 4, 4, 11, 11, 11, 11, 12, 12]"
            ]
          },
          "metadata": {},
          "execution_count": 64
        }
      ]
    }
  ]
}